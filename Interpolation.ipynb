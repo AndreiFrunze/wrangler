{
 "cells": [
  {
   "cell_type": "code",
   "execution_count": 1,
   "metadata": {},
   "outputs": [],
   "source": [
    "import xarray as xr\n",
    "import numpy as np\n",
    "import pykrige.kriging_tools as kt\n",
    "from pykrige.ok import OrdinaryKriging"
   ]
  },
  {
   "cell_type": "code",
   "execution_count": 2,
   "metadata": {},
   "outputs": [],
   "source": [
    "#read the dataset\n",
    "ds = xr.open_dataset('10minTempStationData.nc')\n",
    "temp = ds['temperature']\n",
    "#grid step\n",
    "step = 0.5"
   ]
  },
  {
   "cell_type": "code",
   "execution_count": 3,
   "metadata": {},
   "outputs": [],
   "source": [
    "# Y grid\n",
    "min_lat = np.floor(np.min(ds['lat'].values))\n",
    "max_lat = np.ceil(np.max(ds['lat'].values)) + step\n",
    "gridy = np.arange(min_lat, max_lat, step)\n",
    "# X grid\n",
    "min_lon = np.floor(np.min(ds['lon'].values))\n",
    "max_lon = np.ceil(np.max(ds['lon'].values)) + step\n",
    "gridx = np.arange(min_lon, max_lon, step)"
   ]
  },
  {
   "cell_type": "code",
   "execution_count": 4,
   "metadata": {},
   "outputs": [],
   "source": [
    "def findIndex(value, value_array):\n",
    "    min_value = min(value_array, key=lambda x: abs(x - value))\n",
    "    index = np.where(value_array == min_value)[0][0]\n",
    "    return index"
   ]
  },
  {
   "cell_type": "code",
   "execution_count": 5,
   "metadata": {},
   "outputs": [],
   "source": [
    "# handle provided time\n",
    "input_time = '2010-07-12 13:07:30'\n",
    "time = np.datetime64(input_time)\n",
    "time_array = ds['time'].values\n",
    "time_index = findIndex(time, time_array)\n",
    "\n",
    "# get the station coordinates\n",
    "latitudes = ds['lat'].values\n",
    "longitudes = ds['lon'].values\n",
    "coordinates = np.vstack((longitudes,latitudes)).T\n",
    "\n",
    "# create data array\n",
    "data = []\n",
    "index = 0\n",
    "for tuple in coordinates:\n",
    "    lon = tuple[0]\n",
    "    lat = tuple[1]\n",
    "    value = temp[time_index, index].values.item(0)\n",
    "    index += 1\n",
    "    if not np.isnan(value):\n",
    "        data.append([lon, lat, value])\n",
    "\n",
    "data = np.array(data)"
   ]
  },
  {
   "cell_type": "code",
   "execution_count": 6,
   "metadata": {},
   "outputs": [
    {
     "data": {
      "text/plain": [
       "array([[ 3.81028008, 55.39920044, 15.19999981],\n",
       "       [ 6.19606018, 51.49729919, 22.60000038],\n",
       "       [ 5.94166994, 53.49169922, 18.79999924],\n",
       "       [ 4.97875977, 52.6427002 , 22.10000038],\n",
       "       [ 4.92592001, 51.96900177, 23.39999962],\n",
       "       [ 2.93575001, 54.32569885, 16.20000076],\n",
       "       [ 5.1796999 , 52.09880066, 24.        ],\n",
       "       [ 4.78113985, 52.92689896, 20.29999924],\n",
       "       [ 5.87232018, 52.05490112, 24.29999924],\n",
       "       [ 6.58484983, 53.12369919, 19.60000038],\n",
       "       [ 5.37701988, 51.44979858, 25.39999962],\n",
       "       [ 5.76249981, 51.19670105, 25.70000076],\n",
       "       [ 4.01221991, 54.11669922, 17.        ],\n",
       "       [ 4.69610977, 54.85390091, 16.39999962],\n",
       "       [ 4.93513012, 51.56489944, 25.29999924],\n",
       "       [ 6.25889015, 52.43439865, 22.39999962],\n",
       "       [ 5.14540005, 51.85760117, 24.        ],\n",
       "       [ 4.12185001, 51.99089813, 22.70000076],\n",
       "       [ 6.5729599 , 52.74909973, 20.        ],\n",
       "       [ 5.34579992, 53.3913002 , 19.39999962],\n",
       "       [ 4.15028   , 52.91809845, 17.20000076],\n",
       "       [ 6.65667009, 52.06779861, 22.79999924],\n",
       "       [ 2.94528008, 53.82389832, 16.5       ],\n",
       "       [ 3.62777996, 53.26940155, 16.89999962],\n",
       "       [ 4.96027994, 53.61439896, 17.70000076],\n",
       "       [ 6.19917011, 53.4117012 , 21.        ],\n",
       "       [ 5.51962996, 52.45729828, 23.10000038],\n",
       "       [ 5.76177979, 50.90530014, 24.60000038],\n",
       "       [ 5.88749981, 52.70190048, 22.29999924],\n",
       "       [ 7.14916992, 53.19440079, 18.5       ],\n",
       "       [ 3.34167004, 52.36000061, 16.29999924],\n",
       "       [ 4.44688988, 51.96070099, 23.39999962],\n",
       "       [ 4.78979015, 52.31719971, 21.89999962],\n",
       "       [ 5.38332987, 52.89670181, 21.79999924],\n",
       "       [ 6.89087009, 52.27320099, 22.5       ],\n",
       "       [ 4.42944002, 52.17029953, 22.39999962],\n",
       "       [ 4.9207902 , 53.24000168, 19.        ],\n",
       "       [ 3.59581995, 51.44129944, 23.20000076],\n",
       "       [ 5.70656013, 51.65840149, 25.29999924],\n",
       "       [ 3.86098003, 51.22480011, 24.20000076],\n",
       "       [ 4.60305977, 52.50529861, 22.        ],\n",
       "       [ 3.88417006, 51.52719879, 24.        ],\n",
       "       [ 4.34201002, 51.44779968, 24.5       ]])"
      ]
     },
     "execution_count": 6,
     "metadata": {},
     "output_type": "execute_result"
    }
   ],
   "source": [
    "data"
   ]
  },
  {
   "cell_type": "code",
   "execution_count": 7,
   "metadata": {},
   "outputs": [
    {
     "name": "stdout",
     "output_type": "stream",
     "text": [
      "Adjusting data for anisotropy...\n",
      "Initializing variogram model...\n",
      "Coordinates type: 'euclidean' \n",
      "\n",
      "Using 'exponential' Variogram Model\n",
      "Partial Sill: 18.818559010514175\n",
      "Full Sill: 18.818559010514175\n",
      "Range: 4.382858513488947\n",
      "Nugget: 6.54894772825993e-17 \n",
      "\n",
      "Calculating statistics on variogram model fit...\n",
      "Executing Ordinary Kriging...\n",
      "\n"
     ]
    }
   ],
   "source": [
    "# variogram_model => [linear, power, gaussian, spherical, exponential]\n",
    "OK = OrdinaryKriging(data[:, 0], data[:, 1], data[:, 2], variogram_model='exponential',\n",
    "                     verbose=True, enable_plotting=False)\n",
    "style = 'grid'\n",
    "\n",
    "if style == 'points':\n",
    "    z, ss = OK.execute('points', np.array([2.1]), np.array([51.9]))\n",
    "elif style == 'grid':\n",
    "    z, ss = OK.execute('grid', gridx, gridy)\n",
    "else:\n",
    "    print(\"Invalid style\")\n",
    "\n",
    "#kt.write_asc_grid(gridx, gridy, z, filename=\"output.asc\")"
   ]
  },
  {
   "cell_type": "code",
   "execution_count": 8,
   "metadata": {},
   "outputs": [
    {
     "name": "stdout",
     "output_type": "stream",
     "text": [
      "22.25609450090893\n"
     ]
    }
   ],
   "source": [
    "if style == 'grid':\n",
    "    # query location (must be within the limits of the grid)\n",
    "    query_lon = 2.1\n",
    "    query_lat = 51.9\n",
    "\n",
    "    x = findIndex(query_lon, gridx)\n",
    "    y = findIndex(query_lat, gridy)\n",
    "    \n",
    "    print(z[x,y])\n",
    "elif style == 'points':\n",
    "    print(z[0])"
   ]
  }
 ],
 "metadata": {
  "kernelspec": {
   "display_name": "Python 2",
   "language": "python",
   "name": "python2"
  },
  "language_info": {
   "codemirror_mode": {
    "name": "ipython",
    "version": 2
   },
   "file_extension": ".py",
   "mimetype": "text/x-python",
   "name": "python",
   "nbconvert_exporter": "python",
   "pygments_lexer": "ipython2",
   "version": "2.7.9"
  }
 },
 "nbformat": 4,
 "nbformat_minor": 2
}
